{
 "cells": [
  {
   "cell_type": "code",
   "execution_count": 34,
   "metadata": {},
   "outputs": [],
   "source": [
    "import numpy as np\n",
    "import random\n",
    "\n",
    "# 1. Función para crear un tablero de dimensiones variables, en este caso 10x10\n",
    "def crear_tablero(dimension = 10, relleno = \" \"):\n",
    "    return np.full((dimension, dimension), relleno)\n",
    "\n",
    "#\n",
    "# def crear_tablero(filas=10, columnas=10):\n",
    "#   return np.full((filas, columnas), \" \")\n",
    "# tablero = crear_tablero()\n",
    "# tablero"
   ]
  },
  {
   "cell_type": "code",
   "execution_count": 35,
   "metadata": {},
   "outputs": [
    {
     "data": {
      "text/plain": [
       "array([[' ', ' ', ' ', ' ', ' ', ' ', ' ', ' ', ' ', ' '],\n",
       "       [' ', ' ', ' ', ' ', ' ', ' ', ' ', ' ', ' ', ' '],\n",
       "       [' ', ' ', ' ', ' ', ' ', ' ', ' ', ' ', ' ', ' '],\n",
       "       [' ', ' ', ' ', ' ', ' ', ' ', ' ', ' ', ' ', ' '],\n",
       "       [' ', ' ', ' ', ' ', ' ', ' ', ' ', ' ', ' ', ' '],\n",
       "       [' ', ' ', ' ', ' ', ' ', ' ', ' ', ' ', ' ', ' '],\n",
       "       [' ', ' ', ' ', ' ', ' ', ' ', ' ', ' ', ' ', ' '],\n",
       "       [' ', ' ', ' ', ' ', ' ', ' ', ' ', ' ', ' ', ' '],\n",
       "       [' ', ' ', ' ', ' ', ' ', ' ', ' ', ' ', ' ', ' '],\n",
       "       [' ', ' ', ' ', ' ', ' ', ' ', ' ', ' ', ' ', ' ']], dtype='<U1')"
      ]
     },
     "execution_count": 35,
     "metadata": {},
     "output_type": "execute_result"
    }
   ],
   "source": [
    "tablero = crear_tablero()\n",
    "tablero"
   ]
  },
  {
   "cell_type": "code",
   "execution_count": 23,
   "metadata": {},
   "outputs": [],
   "source": [
    "# 2. Función para posicionar barcos en el tablero\n",
    "def posicionar_barco(tablero, posiciones):\n",
    "    for pos in posiciones:\n",
    "        tablero[pos] = \"O\""
   ]
  },
  {
   "cell_type": "code",
   "execution_count": 20,
   "metadata": {},
   "outputs": [],
   "source": [
    "# 3. Función para disparar al tablero\n",
    "def disparar(tablero, coordenada):\n",
    "    if tablero[coordenada] == \"O\":\n",
    "        tablero[coordenada] = \"X\"  # Impacto en un barco\n",
    "    elif tablero[coordenada] == \" \":\n",
    "        tablero[coordenada] = \"-\"  # Disparo en agua\n",
    "    # Se omiten otros caracteres, como \"X\" y \"-\", para no modificar disparos anteriores"
   ]
  },
  {
   "cell_type": "code",
   "execution_count": null,
   "metadata": {},
   "outputs": [],
   "source": [
    "# Función para colocar un barco aleatoriamente en el tablero\n",
    "def colocar_barco_aleatorio(tablero, tamano=4):\n",
    "    while True:\n",
    "        # Selecciona una posición inicial y orientación aleatorias          # tablero (10,10)\n",
    "        fila_inicio = random.randint(0, tablero.shape[0] - 1)               # tupla entre 0 y la posición 0 de la tupla shape de table (menos 1, es decir entre 0,9)\n",
    "        col_inicio = random.randint(0, tablero.shape[1] - 1)                # tupla entre 0 y la posición 1 de la tupla shape de table (menos 1, es decir entre 0,9)\n",
    "        direccion = random.choice([\"N\", \"S\", \"E\", \"O\"])\n",
    "\n",
    "        # Calcula las posiciones del barco según la orientación\n",
    "        posiciones = []\n",
    "        for i in range(tamano):\n",
    "            if direccion == \"N\":\n",
    "                posicion = (fila_inicio - i, col_inicio)            # fila posicion actual del barco y -i que es la direccion donde irá colocando / columna no se mueve\n",
    "            elif direccion == \"S\":\n",
    "                posicion = (fila_inicio + i, col_inicio)            # +i pq irá colocando mas / la col no se mueve\n",
    "            elif direccion == \"E\":\n",
    "                posicion = (fila_inicio, col_inicio + i)\n",
    "            elif direccion == \"O\":\n",
    "                posicion = (fila_inicio, col_inicio - i)\n",
    "\n",
    "            # obtengo una tupla que se llama 'posición ( [0] , [1] )' para un punto i del barco\n",
    "\n",
    "            # Verifica que la posición esté dentro de los límites\n",
    "            if posicion[0] < 0 or posicion[0] >= tablero.shape[0] or posicion[1] < 0 or posicion[1] >= tablero.shape[1]:\n",
    "                posiciones = []     # Reinicia las posiciones si alguna está fuera del tablero\n",
    "                break               # Corta el bucle\n",
    "            posiciones.append(posicion)\n",
    "\n",
    "        # Comprueba si todas las posiciones están libres\n",
    "        if posiciones and all(tablero[pos] == \" \" for pos in posiciones):\n",
    "            for pos in posiciones:\n",
    "                tablero[pos] = \"O\"\n",
    "            break  # Finaliza el bucle al posicionar el barco sin conflictos"
   ]
  },
  {
   "cell_type": "code",
   "execution_count": null,
   "metadata": {},
   "outputs": [],
   "source": [
    "# solucion RODRIGO\n",
    "\n",
    "def crear_barco_tablero(tablero, eslora = 4, num_intentos = 100):    # contador intentos\n",
    "    \n",
    "    num_max_filas = tablero.shape[0]        # shape es una 'tupla ( [0] , [1])' , y tablero tiene (10,10)\n",
    "    num_max_columnas = tablero.shape[1]     \n",
    "\n",
    "    contador = 0     # contador para intentos\n",
    "\n",
    "    while contador <= num_intentos:\n",
    "        \n",
    "        contador += 1\n",
    "        \n",
    "        barco = []\n",
    "        \n",
    "        pieza_original = (random.randint(0, num_max_filas -1), random.randint(0, num_max_columnas -1) )    # genera posicion aleatoria en tablero\n",
    "        \n",
    "        orientacion = random.choice([\"N\", \"S\" , \"O\" , \"E\"])         # selecciona orientacion aleatoria\n",
    "        \n",
    "        fila = pieza_original [0]           # asigna valor de la posicion generada aleatoriamente\n",
    "        columna = pieza_original [1]        \n",
    "        \n",
    "        barco.append(pieza_original)        # se añade a la lista Barco\n",
    "        print(f\"Pieza original: {pieza_original}, orientación: {orientacion}\")\n",
    "        \n",
    "        for i in range(eslora -1):\n",
    "            if orientacion == \"N\":\n",
    "                fila -= 1               # Resta 1 a fila (es decir, se mueve hacia arriba)\n",
    "            elif orientacion == \"S\":\n",
    "                fila += 1\n",
    "            elif orientacion == \"O\":\n",
    "                columna += 1\n",
    "            elif orientacion == \"E\":\n",
    "                fila += 1\n",
    "            pieza = (fila, columna)\n",
    "            barco.append(pieza)         # La nueva posición (fila, columna) se agrega a la lista barco\n",
    "        \n",
    "        tablero_temp = colocar_barco_plus (tablero, )\n",
    "        \n",
    "        if type(tablero_temp) == np.ndarray:        # Si el barco se coloca correctamente:\n",
    "            return tablero_temp                     # colocar_barco_plus devuelve un tablero actualizado (un objeto np.ndarray).\n",
    "                                                    # La función termina y devuelve el nuevo tablero\n",
    "        # Si el barco no se puede colocar:\n",
    "\n",
    "        print(f\"Tengo que intentar colocar otro barco, {contador} intentos realizados\")\n"
   ]
  },
  {
   "cell_type": "code",
   "execution_count": 33,
   "metadata": {},
   "outputs": [
    {
     "data": {
      "text/plain": [
       "array([[' ', ' ', ' ', ' ', ' ', ' ', ' ', ' ', ' ', ' '],\n",
       "       [' ', ' ', ' ', ' ', ' ', ' ', ' ', ' ', ' ', ' '],\n",
       "       [' ', ' ', ' ', ' ', ' ', ' ', ' ', ' ', ' ', ' '],\n",
       "       [' ', ' ', ' ', ' ', ' ', ' ', ' ', ' ', ' ', ' '],\n",
       "       [' ', ' ', ' ', ' ', ' ', ' ', ' ', ' ', ' ', ' '],\n",
       "       [' ', ' ', ' ', ' ', ' ', ' ', ' ', ' ', ' ', ' '],\n",
       "       [' ', ' ', ' ', ' ', ' ', ' ', ' ', ' ', ' ', ' '],\n",
       "       [' ', ' ', ' ', ' ', ' ', ' ', ' ', ' ', ' ', ' '],\n",
       "       [' ', ' ', ' ', ' ', ' ', ' ', ' ', ' ', ' ', ' '],\n",
       "       [' ', ' ', ' ', ' ', ' ', ' ', ' ', ' ', ' ', ' ']], dtype='<U1')"
      ]
     },
     "execution_count": 33,
     "metadata": {},
     "output_type": "execute_result"
    }
   ],
   "source": [
    "tablero = crear_tablero()\n",
    "tablero"
   ]
  },
  {
   "cell_type": "code",
   "execution_count": 12,
   "metadata": {},
   "outputs": [],
   "source": [
    "# Inicialización del tablero y posicionamiento de barcos\n",
    "tablero = crear_tablero()\n",
    "posicionar_barco(tablero, [(0, 1), (1, 1)])  # Barco de longitud 2\n",
    "posicionar_barco(tablero, [(1, 3), (1, 4), (1, 5), (1, 6)])  # Barco de longitud 4"
   ]
  },
  {
   "cell_type": "code",
   "execution_count": 13,
   "metadata": {},
   "outputs": [],
   "source": [
    "# Posicionar un barco de 4 posiciones aleatoriamente\n",
    "colocar_barco_aleatorio(tablero, 6)"
   ]
  },
  {
   "cell_type": "code",
   "execution_count": 14,
   "metadata": {},
   "outputs": [],
   "source": [
    "# Ejemplo de disparos\n",
    "disparar(tablero, (1, 1))  # Disparo en un barco\n",
    "disparar(tablero, (3, 3))  # Disparo en agua"
   ]
  },
  {
   "cell_type": "code",
   "execution_count": 15,
   "metadata": {},
   "outputs": [
    {
     "name": "stdout",
     "output_type": "stream",
     "text": [
      "[[' ' 'O' ' ' ' ' ' ' ' ' ' ' ' ' ' ' ' ']\n",
      " [' ' 'X' ' ' 'O' 'O' 'O' 'O' ' ' ' ' ' ']\n",
      " [' ' ' ' ' ' ' ' ' ' ' ' ' ' ' ' ' ' ' ']\n",
      " [' ' ' ' ' ' '-' ' ' ' ' ' ' ' ' ' ' ' ']\n",
      " [' ' ' ' ' ' ' ' ' ' ' ' ' ' ' ' ' ' ' ']\n",
      " [' ' ' ' ' ' ' ' ' ' ' ' ' ' ' ' ' ' ' ']\n",
      " [' ' ' ' ' ' ' ' ' ' ' ' ' ' ' ' ' ' ' ']\n",
      " [' ' ' ' ' ' ' ' ' ' ' ' ' ' ' ' ' ' ' ']\n",
      " [' ' ' ' ' ' ' ' ' ' ' ' ' ' ' ' ' ' ' ']\n",
      " [' ' ' ' 'O' 'O' 'O' 'O' 'O' 'O' ' ' ' ']]\n"
     ]
    }
   ],
   "source": [
    "# Visualización del tablero\n",
    "print(tablero)"
   ]
  },
  {
   "cell_type": "code",
   "execution_count": null,
   "metadata": {},
   "outputs": [],
   "source": []
  }
 ],
 "metadata": {
  "kernelspec": {
   "display_name": "Python 3",
   "language": "python",
   "name": "python3"
  },
  "language_info": {
   "codemirror_mode": {
    "name": "ipython",
    "version": 3
   },
   "file_extension": ".py",
   "mimetype": "text/x-python",
   "name": "python",
   "nbconvert_exporter": "python",
   "pygments_lexer": "ipython3",
   "version": "3.11.9"
  }
 },
 "nbformat": 4,
 "nbformat_minor": 2
}
